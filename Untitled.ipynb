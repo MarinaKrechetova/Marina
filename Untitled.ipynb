{
 "cells": [
  {
   "cell_type": "raw",
   "id": "fc4fe63c-2462-40e9-ba2f-16c9c6efdf02",
   "metadata": {},
   "source": [
    "print(\"Hello, Woild!\")"
   ]
  },
  {
   "cell_type": "code",
   "execution_count": 1,
   "id": "c92f3b83-c06d-4dca-9761-887f74fc1af6",
   "metadata": {},
   "outputs": [
    {
     "name": "stdout",
     "output_type": "stream",
     "text": [
      "Hello, Woild!\n"
     ]
    }
   ],
   "source": [
    "print(\"Hello, Woild!\")"
   ]
  },
  {
   "cell_type": "code",
   "execution_count": null,
   "id": "386e8119-ca7d-4359-a2e0-18b8039f2998",
   "metadata": {},
   "outputs": [],
   "source": []
  }
 ],
 "metadata": {
  "kernelspec": {
   "display_name": "Python 3 (ipykernel)",
   "language": "python",
   "name": "python3"
  },
  "language_info": {
   "codemirror_mode": {
    "name": "ipython",
    "version": 3
   },
   "file_extension": ".py",
   "mimetype": "text/x-python",
   "name": "python",
   "nbconvert_exporter": "python",
   "pygments_lexer": "ipython3",
   "version": "3.11.7"
  }
 },
 "nbformat": 4,
 "nbformat_minor": 5
}
